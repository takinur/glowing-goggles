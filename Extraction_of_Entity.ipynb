{
  "nbformat": 4,
  "nbformat_minor": 0,
  "metadata": {
    "colab": {
      "name": "Extraction of Entity.ipynb",
      "provenance": [],
      "collapsed_sections": [],
      "authorship_tag": "ABX9TyOdaF5ih7Y/zLFf9j7Uongm"
    },
    "kernelspec": {
      "name": "python3",
      "display_name": "Python 3"
    },
    "language_info": {
      "name": "python"
    }
  },
  "cells": [
    {
      "cell_type": "code",
      "execution_count": 1,
      "metadata": {
        "id": "EfRTDs8IlYHv"
      },
      "outputs": [],
      "source": [
        "import spacy\n",
        "nlp = spacy.load(\"en_core_web_sm\")"
      ]
    },
    {
      "cell_type": "code",
      "source": [
        "text = \"When Steve Jobs started working on self-driving cars at Google in 2007, Takinur Mahim and elon musk with few people outside of the company took him seriously.\"\n",
        "\n",
        "doc = nlp(text)\n",
        "\n",
        "for ent in doc.ents:\n",
        "    print(ent.text, ent.start_char, ent.end_char, ent.label_)"
      ],
      "metadata": {
        "id": "FWgNAYR2lwjw",
        "colab": {
          "base_uri": "https://localhost:8080/"
        },
        "outputId": "3e6ab98d-16b3-41b5-c171-f85ffb0ac1bd"
      },
      "execution_count": 8,
      "outputs": [
        {
          "output_type": "stream",
          "name": "stdout",
          "text": [
            "Steve Jobs 5 15 PERSON\n",
            "2007 66 70 DATE\n",
            "Takinur Mahim 72 85 ORG\n"
          ]
        }
      ]
    },
    {
      "cell_type": "markdown",
      "source": [
        "**Bidirectional Encoder Representations from Transformers (BERT)**"
      ],
      "metadata": {
        "id": "bqF0B8VEobk5"
      }
    },
    {
      "cell_type": "code",
      "source": [
        "!pip install transformers[torch]"
      ],
      "metadata": {
        "id": "pk6HTzi6n2uB"
      },
      "execution_count": null,
      "outputs": []
    },
    {
      "cell_type": "code",
      "source": [
        "from transformers import pipeline\n",
        "print(pipeline('sentiment-analysis')('Its not like we hate you or anything!'))\n",
        "print(pipeline('sentiment-analysis')('Maybe we hate you in few aspect!'))"
      ],
      "metadata": {
        "colab": {
          "base_uri": "https://localhost:8080/"
        },
        "id": "ZYZg9tukn8wQ",
        "outputId": "50db4365-0615-4053-ff4a-81a515d598eb"
      },
      "execution_count": 14,
      "outputs": [
        {
          "output_type": "stream",
          "name": "stderr",
          "text": [
            "No model was supplied, defaulted to distilbert-base-uncased-finetuned-sst-2-english (https://huggingface.co/distilbert-base-uncased-finetuned-sst-2-english)\n",
            "No model was supplied, defaulted to distilbert-base-uncased-finetuned-sst-2-english (https://huggingface.co/distilbert-base-uncased-finetuned-sst-2-english)\n"
          ]
        },
        {
          "output_type": "stream",
          "name": "stdout",
          "text": [
            "[{'label': 'POSITIVE', 'score': 0.9913011193275452}]\n",
            "[{'label': 'NEGATIVE', 'score': 0.9955482482910156}]\n"
          ]
        }
      ]
    },
    {
      "cell_type": "code",
      "source": [
        "from transformers import AutoTokenizer, AutoModelForTokenClassification, pipeline\n",
        "\n",
        "bert_tokenizer = AutoTokenizer.from_pretrained('dslim/bert-large-NER')\n",
        "bert_model = AutoModelForTokenClassification.from_pretrained('dslim/bert-large-NER')\n"
      ],
      "metadata": {
        "id": "zzpe0mSGoz4x"
      },
      "execution_count": null,
      "outputs": []
    },
    {
      "cell_type": "code",
      "source": [
        "nlp = pipeline('ner', model=bert_model, tokenizer=bert_tokenizer)\n",
        "names_string = \"Frank Neugebauer web developer overview an independent software developer currently based in Singapore. Takinur I Mahim  JavaScript framework Vue.js and the frontend build tool Vite \"\n",
        "ner_list = nlp(names_string)\n",
        "print(ner_list)"
      ],
      "metadata": {
        "colab": {
          "base_uri": "https://localhost:8080/"
        },
        "id": "2COR_G5CsjKQ",
        "outputId": "040400b7-f445-4f40-8cbb-fb5b1b30f128"
      },
      "execution_count": 19,
      "outputs": [
        {
          "output_type": "stream",
          "name": "stdout",
          "text": [
            "[{'entity': 'B-PER', 'score': 0.99934465, 'index': 1, 'word': 'Frank', 'start': 0, 'end': 5}, {'entity': 'I-PER', 'score': 0.9995772, 'index': 2, 'word': 'N', 'start': 6, 'end': 7}, {'entity': 'I-PER', 'score': 0.9990252, 'index': 3, 'word': '##eu', 'start': 7, 'end': 9}, {'entity': 'I-PER', 'score': 0.9950911, 'index': 4, 'word': '##ge', 'start': 9, 'end': 11}, {'entity': 'I-PER', 'score': 0.98085105, 'index': 5, 'word': '##ba', 'start': 11, 'end': 13}, {'entity': 'I-PER', 'score': 0.9617282, 'index': 6, 'word': '##uer', 'start': 13, 'end': 16}, {'entity': 'B-LOC', 'score': 0.9996933, 'index': 17, 'word': 'Singapore', 'start': 93, 'end': 102}, {'entity': 'B-ORG', 'score': 0.94264203, 'index': 19, 'word': 'Ta', 'start': 104, 'end': 106}, {'entity': 'I-ORG', 'score': 0.93192434, 'index': 20, 'word': '##kin', 'start': 106, 'end': 109}, {'entity': 'I-ORG', 'score': 0.8910748, 'index': 21, 'word': '##ur', 'start': 109, 'end': 111}, {'entity': 'I-ORG', 'score': 0.9474837, 'index': 22, 'word': 'I', 'start': 112, 'end': 113}, {'entity': 'B-LOC', 'score': 0.40921333, 'index': 23, 'word': 'Ma', 'start': 114, 'end': 116}, {'entity': 'I-LOC', 'score': 0.5607523, 'index': 24, 'word': '##him', 'start': 116, 'end': 119}, {'entity': 'B-MISC', 'score': 0.99776745, 'index': 25, 'word': 'Java', 'start': 121, 'end': 125}, {'entity': 'I-MISC', 'score': 0.9917321, 'index': 26, 'word': '##Script', 'start': 125, 'end': 131}, {'entity': 'B-MISC', 'score': 0.48470297, 'index': 28, 'word': 'V', 'start': 142, 'end': 143}, {'entity': 'I-MISC', 'score': 0.9056732, 'index': 29, 'word': '##ue', 'start': 143, 'end': 145}, {'entity': 'B-MISC', 'score': 0.5069387, 'index': 39, 'word': 'V', 'start': 177, 'end': 178}, {'entity': 'I-MISC', 'score': 0.8094877, 'index': 40, 'word': '##ite', 'start': 178, 'end': 181}]\n"
          ]
        }
      ]
    },
    {
      "cell_type": "code",
      "source": [
        "this_name = []\n",
        "all_names_list_tmp = []\n",
        "\n",
        "for ner_dict in ner_list:\n",
        "    if ner_dict['entity'] == 'B-PER':\n",
        "        if len(this_name) == 0:\n",
        "            this_name.append(ner_dict['word'])\n",
        "        else:\n",
        "            all_names_list_tmp.append([this_name])\n",
        "            this_name = []\n",
        "            this_name.append(ner_dict['word'])\n",
        "    elif ner_dict['entity'] == 'I-PER':\n",
        "        this_name.append(ner_dict['word'])\n",
        "\n",
        "all_names_list_tmp.append([this_name])\n",
        "\n",
        "print(all_names_list_tmp)"
      ],
      "metadata": {
        "colab": {
          "base_uri": "https://localhost:8080/"
        },
        "id": "vLg9myfipkzI",
        "outputId": "734d4b3e-9767-44b1-a677-1cea80f8a417"
      },
      "execution_count": 20,
      "outputs": [
        {
          "output_type": "stream",
          "name": "stdout",
          "text": [
            "[[['Frank', 'N', '##eu', '##ge', '##ba', '##uer']]]\n"
          ]
        }
      ]
    },
    {
      "cell_type": "code",
      "source": [
        "final_name_list = []\n",
        "for name_list in all_names_list_tmp:\n",
        "    full_name = ' '.join(name_list[0]).replace(' ##', '').replace(' .', '.')\n",
        "    final_name_list.append([full_name])\n",
        "\n",
        "print(final_name_list)"
      ],
      "metadata": {
        "colab": {
          "base_uri": "https://localhost:8080/"
        },
        "id": "oCEiPitpp4so",
        "outputId": "bdb756f3-911f-49b6-b0be-410e346f5e0c"
      },
      "execution_count": 21,
      "outputs": [
        {
          "output_type": "stream",
          "name": "stdout",
          "text": [
            "[['Frank Neugebauer']]\n"
          ]
        }
      ]
    }
  ]
}